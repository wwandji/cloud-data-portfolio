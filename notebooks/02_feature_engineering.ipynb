{
 "cells": [
  {
   "cell_type": "markdown",
   "id": "c676b203",
   "metadata": {},
   "source": [
    "# 02 — Feature Engineering (placeholder)\n",
    "Idées: encoding catégoriel, agrégations hebdomadaires, préparation au modeling."
   ]
  }
 ],
 "metadata": {},
 "nbformat": 4,
 "nbformat_minor": 5
}
