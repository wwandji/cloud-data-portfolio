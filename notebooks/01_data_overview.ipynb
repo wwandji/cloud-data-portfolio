{
 "cells": [
  {
   "cell_type": "markdown",
   "id": "a285e319",
   "metadata": {},
   "source": [
    "# 01 — Data Overview (LaundryFlow & Ayoka)\n",
    "Ce notebook charge les CSV, nettoie les données et calcule des KPI de base."
   ]
  },
  {
   "cell_type": "code",
   "execution_count": null,
   "id": "b4c65038",
   "metadata": {},
   "outputs": [],
   "source": [
    "\n",
    "import pandas as pd\n",
    "import matplotlib.pyplot as plt\n",
    "from pathlib import Path\n",
    "\n",
    "DATA = Path('..') / 'data' if (Path.cwd().name == 'notebooks') else Path('data')\n",
    "laundry = pd.read_csv(DATA / 'laundryflow_orders.csv')\n",
    "ayoka = pd.read_csv(DATA / 'ayoka_orders.csv')\n",
    "\n",
    "laundry.head(), ayoka.head()\n"
   ]
  },
  {
   "cell_type": "markdown",
   "id": "cb8ba77e",
   "metadata": {},
   "source": [
    "## Nettoyage & typage"
   ]
  },
  {
   "cell_type": "code",
   "execution_count": null,
   "id": "6a08cd8e",
   "metadata": {},
   "outputs": [],
   "source": [
    "\n",
    "laundry['date_order'] = pd.to_datetime(laundry['date_order'])\n",
    "laundry['pickup_time'] = pd.to_datetime(laundry['pickup_time'])\n",
    "laundry['delivery_time'] = pd.to_datetime(laundry['delivery_time'])\n",
    "laundry['delivery_hours'] = (laundry['delivery_time'] - laundry['pickup_time']).dt.total_seconds() / 3600.0\n",
    "ayoka['date'] = pd.to_datetime(ayoka['date'])\n",
    "laundry.dtypes, ayoka.dtypes\n"
   ]
  },
  {
   "cell_type": "markdown",
   "id": "f706644a",
   "metadata": {},
   "source": [
    "## KPI de base"
   ]
  },
  {
   "cell_type": "code",
   "execution_count": null,
   "id": "6a67df68",
   "metadata": {},
   "outputs": [],
   "source": [
    "\n",
    "ca_par_service = laundry.groupby('service_type')['total_price'].sum().sort_values(ascending=False)\n",
    "panier_moyen = ayoka['total_price'].mean()\n",
    "tps_moyen = laundry['delivery_hours'].mean()\n",
    "print(\"CA par service:\\n\", ca_par_service)\n",
    "print(\"\\nPanier moyen Ayoka:\", round(panier_moyen, 2))\n",
    "print(\"Temps moyen de livraison (h):\", round(tps_moyen, 2))\n"
   ]
  },
  {
   "cell_type": "markdown",
   "id": "2cc4b179",
   "metadata": {},
   "source": [
    "## Visualisation (un plot par figure, pas de couleurs spécifiées)"
   ]
  },
  {
   "cell_type": "code",
   "execution_count": null,
   "id": "932ac035",
   "metadata": {},
   "outputs": [],
   "source": [
    "\n",
    "weekly_orders = laundry.set_index('date_order').resample('W')['order_id'].count()\n",
    "\n",
    "plt.figure()\n",
    "weekly_orders.plot(title='Commandes LaundryFlow par semaine')\n",
    "plt.xlabel('Semaine')\n",
    "plt.ylabel(\"Nombre d'ordres\")\n",
    "plt.show()\n"
   ]
  },
  {
   "cell_type": "markdown",
   "id": "cefe2ef7",
   "metadata": {},
   "source": [
    "## À faire\n",
    "- Graphe des ventes par ville (Ayoka)\n",
    "- Satisfaction moyenne par type de service (LaundryFlow)\n",
    "- Exporter 3 KPIs vers `outputs/kpis.csv`"
   ]
  }
 ],
 "metadata": {},
 "nbformat": 4,
 "nbformat_minor": 5
}
